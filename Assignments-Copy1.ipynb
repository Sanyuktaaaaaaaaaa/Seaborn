{
 "cells": [
  {
   "cell_type": "code",
   "execution_count": 1,
   "id": "fa63d89e",
   "metadata": {},
   "outputs": [
    {
     "name": "stdout",
     "output_type": "stream",
     "text": [
      "Enter the radius of the circle2\n",
      "12.56\n"
     ]
    }
   ],
   "source": [
    "rad=int(input(\"Enter the radius of the circle\"))\n",
    "pi= 3.14\n",
    "perimeter=2*pi*rad\n",
    "print(perimeter)"
   ]
  },
  {
   "cell_type": "code",
   "execution_count": 3,
   "id": "e3c4bf99",
   "metadata": {},
   "outputs": [
    {
     "name": "stdout",
     "output_type": "stream",
     "text": [
      "Enter the marks78\n",
      "Enter the marks88\n",
      "Enter the marks99\n",
      "Enter the marks76\n",
      "Enter the marks56\n",
      "79.4\n"
     ]
    }
   ],
   "source": [
    "Sub1=int(input(\"Enter the marks\"))\n",
    "Sub2=int(input(\"Enter the marks\"))\n",
    "Sub3=int(input(\"Enter the marks\"))\n",
    "Sub4=int(input(\"Enter the marks\"))\n",
    "Sub5=int(input(\"Enter the marks\"))\n",
    "Sum=Sub1+Sub2+Sub3+Sub4+Sub5\n",
    "percentage= Sum/500*100\n",
    "print(percentage)"
   ]
  },
  {
   "cell_type": "code",
   "execution_count": 6,
   "id": "3f2e951e",
   "metadata": {},
   "outputs": [
    {
     "name": "stdout",
     "output_type": "stream",
     "text": [
      "eneter the first angle60\n",
      "eneter the second angle60\n",
      "120\n",
      "60\n"
     ]
    }
   ],
   "source": [
    "angle1= int(input(\"eneter the first angle\"))\n",
    "angle2= int(input(\"eneter the second angle\"))\n",
    "sum= angle1+angle2\n",
    "print(sum)\n",
    "angle3 = 180 - sum\n",
    "print(angle3)"
   ]
  },
  {
   "cell_type": "code",
   "execution_count": 12,
   "id": "3e6dd920",
   "metadata": {},
   "outputs": [
    {
     "name": "stdout",
     "output_type": "stream",
     "text": [
      "enter the current year2025\n",
      "enter your birth year2002\n",
      "23\n"
     ]
    }
   ],
   "source": [
    "current_year=int(input(\"enter the current year\"))\n",
    "birth_year=int(input(\"enter your birth year\"))\n",
    "age= current_year - birth_year\n",
    "print(age)"
   ]
  },
  {
   "cell_type": "code",
   "execution_count": 22,
   "id": "6cb3dfef",
   "metadata": {},
   "outputs": [
    {
     "name": "stdout",
     "output_type": "stream",
     "text": [
      "enter the value2\n",
      "enter the value-7\n",
      "enter the value-4\n",
      "16.0\n"
     ]
    }
   ],
   "source": [
    "import math\n",
    "a= int(input(\"enter the value\"))\n",
    "b= int(input(\"enter the value\"))\n",
    "c= int(input(\"enter the value\"))\n",
    "x= -b+ math.sqrt(b*b-4*a*c)/2*a\n",
    "print(x)\n"
   ]
  },
  {
   "cell_type": "markdown",
   "id": "923abd30",
   "metadata": {},
   "source": []
  },
  {
   "cell_type": "code",
   "execution_count": 19,
   "id": "07d8730b",
   "metadata": {},
   "outputs": [
    {
     "data": {
      "text/plain": [
       "2.0"
      ]
     },
     "execution_count": 19,
     "metadata": {},
     "output_type": "execute_result"
    }
   ],
   "source": [
    "import math\n",
    "math.sqrt(4)"
   ]
  },
  {
   "cell_type": "code",
   "execution_count": 26,
   "id": "864e0466",
   "metadata": {},
   "outputs": [
    {
     "name": "stdout",
     "output_type": "stream",
     "text": [
      "enter the base2\n",
      "enter the height2\n",
      "2.0\n"
     ]
    }
   ],
   "source": [
    "base=int(input(\"enter the base\"))\n",
    "height=int(input(\"enter the height\"))\n",
    "area = 0.5*base*height\n",
    "print(area)         "
   ]
  },
  {
   "cell_type": "code",
   "execution_count": 28,
   "id": "80ea8128",
   "metadata": {},
   "outputs": [
    {
     "name": "stdout",
     "output_type": "stream",
     "text": [
      "enter the side2\n",
      "area of circle is: 4\n",
      "perimter of circle is: 8\n"
     ]
    }
   ],
   "source": [
    "side=int(input(\"enter the side\"))\n",
    "area=side**2\n",
    "print( \"area of circle is:\", area)\n",
    "perimeter=4*side\n",
    "print(\"perimter of circle is:\", perimeter)"
   ]
  },
  {
   "cell_type": "code",
   "execution_count": 30,
   "id": "73e1ffec",
   "metadata": {},
   "outputs": [
    {
     "name": "stdout",
     "output_type": "stream",
     "text": [
      "enter the lenght2\n",
      "enter the lenght2\n",
      "2.8284271247461903\n"
     ]
    }
   ],
   "source": [
    "a=int(input(\"enter the lenght\"))\n",
    "b=int(input(\"enter the lenght\"))\n",
    "c=math.sqrt(a**2+b**2)\n",
    "print(c)"
   ]
  },
  {
   "cell_type": "code",
   "execution_count": 33,
   "id": "5290c276",
   "metadata": {},
   "outputs": [
    {
     "name": "stdout",
     "output_type": "stream",
     "text": [
      "enter the angle60\n",
      "enter the angle60\n",
      "enter the angle60\n",
      "Triangle is an equilateral triangle\n"
     ]
    }
   ],
   "source": [
    "a=int(input(\"enter the angle\"))\n",
    "b=int(input(\"enter the angle\"))\n",
    "c=int(input(\"enter the angle\"))\n",
    "if(a==b==c):\n",
    "    print(\"Triangle is an equilateral triangle\")\n",
    "else:\n",
    "    print(\"Triangle is not an equilateral triangle\")"
   ]
  },
  {
   "cell_type": "code",
   "execution_count": 38,
   "id": "e46518b8",
   "metadata": {},
   "outputs": [
    {
     "name": "stdout",
     "output_type": "stream",
     "text": [
      "Enter the marks35\n",
      "Enter the marks35\n",
      "Enter the marks35\n",
      "Enter the marks35\n",
      "Enter the marks35\n",
      "Percentage of student is: 70.0\n",
      "pass\n"
     ]
    }
   ],
   "source": [
    "Sub1=int(input(\"Enter the marks\"))\n",
    "Sub2=int(input(\"Enter the marks\"))\n",
    "Sub3=int(input(\"Enter the marks\"))\n",
    "Sub4=int(input(\"Enter the marks\"))\n",
    "Sub5=int(input(\"Enter the marks\"))\n",
    "Sum=Sub1+Sub2+Sub3+Sub4+Sub5\n",
    "D= Sum/250\n",
    "percentage= D*100\n",
    "print(\"Percentage of student is:\" , percentage)\n",
    "\n",
    "if(percentage>=60):\n",
    "    print(\"pass\")\n",
    "else:\n",
    "    print(\"Fail\")"
   ]
  },
  {
   "cell_type": "code",
   "execution_count": 41,
   "id": "ca1514b0",
   "metadata": {},
   "outputs": [
    {
     "name": "stdout",
     "output_type": "stream",
     "text": [
      "enter the number3\n",
      "number is odd\n"
     ]
    }
   ],
   "source": [
    "num1=int(input(\"enter the number\"))\n",
    "if(num1%2==0):\n",
    "    print(\"Number is even\")\n",
    "else:\n",
    "    print(\"number is odd\")"
   ]
  },
  {
   "cell_type": "code",
   "execution_count": 45,
   "id": "5c05fe22",
   "metadata": {},
   "outputs": [
    {
     "name": "stdout",
     "output_type": "stream",
     "text": [
      "enter the lenght3\n",
      "enter the lenght4\n",
      "enter the lenght5\n",
      "Triangle is scalane traingle\n"
     ]
    }
   ],
   "source": [
    "a=int(input(\"enter the lenght\"))\n",
    "b=int(input(\"enter the lenght\"))\n",
    "c=int(input(\"enter the lenght\"))\n",
    "if(a==b==c):\n",
    "    print(\"Triangle is equilateral\")\n",
    "elif(a==b!=c):\n",
    "    print(\"Triangle is isoscales triangle\")\n",
    "elif(a!=b!=c):\n",
    "    print(\"Triangle is scalane traingle\")"
   ]
  },
  {
   "cell_type": "code",
   "execution_count": 49,
   "id": "a2aa27f0",
   "metadata": {},
   "outputs": [
    {
     "name": "stdout",
     "output_type": "stream",
     "text": [
      "enter the angle60\n",
      "enter the angle60\n",
      "enter the angle60\n",
      "Triangle is not right angled triangle\n"
     ]
    }
   ],
   "source": [
    "a=int(input(\"enter the angle\"))\n",
    "b=int(input(\"enter the angle\"))\n",
    "c=int(input(\"enter the angle\"))\n",
    "if(a==90 or b==90 or c ==90):\n",
    "    print(\"Triangle is right angles triangle\")\n",
    "else:\n",
    "    print(\"Triangle is not right angled triangle\")"
   ]
  },
  {
   "cell_type": "code",
   "execution_count": 52,
   "id": "ae871206",
   "metadata": {},
   "outputs": [
    {
     "name": "stdout",
     "output_type": "stream",
     "text": [
      "enter the value2\n",
      "enter the value2\n",
      "enter the value2\n",
      "All three numbers are same\n"
     ]
    }
   ],
   "source": [
    "a= int(input(\"enter the value\"))\n",
    "b= int(input(\"enter the value\"))\n",
    "c= int(input(\"enter the value\"))\n",
    "if(a==b==c):\n",
    "    print(\"All three numbers are same\")\n",
    "elif(a>b>c):\n",
    "    print(\"A is greater\")\n",
    "elif(b>a>a):\n",
    "    print(\"B is greater\")\n",
    "elif(c>b>a):\n",
    "    print(\"C is greater\")"
   ]
  },
  {
   "cell_type": "code",
   "execution_count": 57,
   "id": "a1bc35f5",
   "metadata": {},
   "outputs": [
    {
     "name": "stdout",
     "output_type": "stream",
     "text": [
      "Enter a stringmama\n",
      "string is not palindrome\n"
     ]
    }
   ],
   "source": [
    "s= input(\"Enter a string\").lower()\n",
    "reverse =s[::-1]\n",
    "if s== reverse:\n",
    "    print(\"string is palinndrome\")\n",
    "else:\n",
    "    print(\"string is not palindrome\")"
   ]
  },
  {
   "cell_type": "code",
   "execution_count": 61,
   "id": "7a53d51c",
   "metadata": {},
   "outputs": [
    {
     "name": "stdout",
     "output_type": "stream",
     "text": [
      "enter the units78\n",
      "132.67800000000003\n",
      "132.67800000000003\n"
     ]
    }
   ],
   "source": [
    "#electricity bill\n",
    "unit=int(input(\"enter the units\"))\n",
    "if(0>unit<100):\n",
    "    cost=unit*0.75\n",
    "    tax=(0/100) *cost\n",
    "    bill=cost+tax\n",
    "    print(bill)\n",
    "    \n",
    "elif(100>unit<300):\n",
    "    cost=unit*1.62\n",
    "    tax=(5/100)*cost\n",
    "    bill=cost+tax\n",
    "    print(bill)\n",
    "   \n",
    "    print(bill)\n",
    "elif(300>unit<500):\n",
    "    cost=unit*3.27\n",
    "    tax=(10/100) *cost\n",
    "    bill=cost+tax\n",
    "    print(bill)\n",
    "    \n",
    "elif(500>unit<1000):\n",
    "    cost=unit*4.93\n",
    "    tax=(15/100) *cost\n",
    "    bill=cost+tax\n",
    "    print(bill)\n",
    "    \n",
    "elif(unit<1000):\n",
    "    cost=unit*6.50\n",
    "    tax=(20/100) *cost\n",
    "    bill=cost+tax\n",
    "    print(bill)"
   ]
  },
  {
   "cell_type": "code",
   "execution_count": 62,
   "id": "4654b2b4",
   "metadata": {},
   "outputs": [],
   "source": [
    "import pandas as pd\n",
    "import numpy as np"
   ]
  },
  {
   "cell_type": "code",
   "execution_count": null,
   "id": "6ab6958e",
   "metadata": {},
   "outputs": [
    {
     "name": "stdout",
     "output_type": "stream",
     "text": [
      "^^^^^^^^WELCOME TO THE SUPER MARKET^^^^^^^^^\n"
     ]
    }
   ],
   "source": [
    "#Menu Card\n",
    "print(\"^^^^^^^^WELCOME TO THE SUPER MARKET^^^^^^^^^\")\n",
    "product=input(\"What would you like to buy 'Vegetables and Fruits','Bakery and Biscuits','Dry fruits and cereals','Instant food','Ice cream',Bath and Body\")\n",
    "if(product=='Vegetables and Fruits'):\n",
    "    data=[['Onions', 100],['Tomato',89],['Potato',50],['Eggplant',40],['Drum sticks',69],['Spinach',20]]\n",
    "    df=pd.DataFrame(data)\n",
    "    df\n",
    "    \n",
    "elif(product=='Bakery and Biscuits'):\n",
    "    data=[['Cookies',100],['Cream Biscuits',30],['Wafers',10],['Chocolates',50]]\n",
    "    df=pd.DataFrame(data)\n",
    "    df\n",
    "    \n",
    "elif(products=='Dry fruits and cereals'):\n",
    "    data=[['Cashew',300],['Almonds',200],['Pistachio',250],['Dates',150]]\n",
    "    df=pd.DataFrame(data)\n",
    "    df\n",
    "\n",
    "elif(products=='Instant food'):\n",
    "    data=[['Maggie',15],['Yippee Noodles',12],['Cup Noodles',45],['Ramen',50]]\n",
    "    df=pd.DataFrame(data)\n",
    "    df\n",
    "    \n",
    "\n",
    "    \n",
    "    \n"
   ]
  },
  {
   "cell_type": "code",
   "execution_count": null,
   "id": "471160e3",
   "metadata": {},
   "outputs": [],
   "source": []
  }
 ],
 "metadata": {
  "kernelspec": {
   "display_name": "Python 3 (ipykernel)",
   "language": "python",
   "name": "python3"
  },
  "language_info": {
   "codemirror_mode": {
    "name": "ipython",
    "version": 3
   },
   "file_extension": ".py",
   "mimetype": "text/x-python",
   "name": "python",
   "nbconvert_exporter": "python",
   "pygments_lexer": "ipython3",
   "version": "3.11.3"
  }
 },
 "nbformat": 4,
 "nbformat_minor": 5
}
